{
 "cells": [
  {
   "cell_type": "code",
   "execution_count": 1,
   "metadata": {
    "collapsed": true
   },
   "outputs": [],
   "source": [
    "import pandas as pd\n",
    "import nltk\n",
    "from nltk import TrigramAssocMeasures, BigramAssocMeasures\n",
    "from nltk.collocations import *\n",
    "from nltk.tokenize import RegexpTokenizer\n",
    "from sklearn import feature_extraction\n",
    "import re\n",
    "import numpy as np"
   ]
  },
  {
   "cell_type": "markdown",
   "metadata": {},
   "source": [
    "# Loads data "
   ]
  },
  {
   "cell_type": "code",
   "execution_count": 6,
   "metadata": {},
   "outputs": [
    {
     "data": {
      "text/html": [
       "<div>\n",
       "<style>\n",
       "    .dataframe thead tr:only-child th {\n",
       "        text-align: right;\n",
       "    }\n",
       "\n",
       "    .dataframe thead th {\n",
       "        text-align: left;\n",
       "    }\n",
       "\n",
       "    .dataframe tbody tr th {\n",
       "        vertical-align: top;\n",
       "    }\n",
       "</style>\n",
       "<table border=\"1\" class=\"dataframe\">\n",
       "  <thead>\n",
       "    <tr style=\"text-align: right;\">\n",
       "      <th></th>\n",
       "      <th>airport_name</th>\n",
       "      <th>link</th>\n",
       "      <th>title</th>\n",
       "      <th>author</th>\n",
       "      <th>author_country</th>\n",
       "      <th>date</th>\n",
       "      <th>content</th>\n",
       "      <th>experience_airport</th>\n",
       "      <th>date_visit</th>\n",
       "      <th>type_traveller</th>\n",
       "      <th>overall_rating</th>\n",
       "      <th>queuing_rating</th>\n",
       "      <th>terminal_cleanliness_rating</th>\n",
       "      <th>terminal_seating_rating</th>\n",
       "      <th>terminal_signs_rating</th>\n",
       "      <th>food_beverages_rating</th>\n",
       "      <th>airport_shopping_rating</th>\n",
       "      <th>wifi_connectivity_rating</th>\n",
       "      <th>airport_staff_rating</th>\n",
       "      <th>recommended</th>\n",
       "    </tr>\n",
       "  </thead>\n",
       "  <tbody>\n",
       "    <tr>\n",
       "      <th>613</th>\n",
       "      <td>amsterdam-schiphol-airport</td>\n",
       "      <td>/airport-reviews/amsterdam-schiphol-airport</td>\n",
       "      <td>Amsterdam Schiphol Airport customer review</td>\n",
       "      <td>D Hartono</td>\n",
       "      <td>Indonesia</td>\n",
       "      <td>2011-06-16</td>\n",
       "      <td>Its a good and spacious airport it also has a ...</td>\n",
       "      <td>NaN</td>\n",
       "      <td>NaN</td>\n",
       "      <td>NaN</td>\n",
       "      <td>4.0</td>\n",
       "      <td>5.0</td>\n",
       "      <td>3.0</td>\n",
       "      <td>NaN</td>\n",
       "      <td>NaN</td>\n",
       "      <td>NaN</td>\n",
       "      <td>3.0</td>\n",
       "      <td>NaN</td>\n",
       "      <td>NaN</td>\n",
       "      <td>0</td>\n",
       "    </tr>\n",
       "    <tr>\n",
       "      <th>11532</th>\n",
       "      <td>marsa-alam-airport</td>\n",
       "      <td>/airport-reviews/marsa-alam-airport</td>\n",
       "      <td>Marsa Alam Airport customer review</td>\n",
       "      <td>Paul Harvey</td>\n",
       "      <td>United Kingdom</td>\n",
       "      <td>2012-10-01</td>\n",
       "      <td>Despite the difficult situation in Egypt this ...</td>\n",
       "      <td>NaN</td>\n",
       "      <td>NaN</td>\n",
       "      <td>NaN</td>\n",
       "      <td>7.0</td>\n",
       "      <td>3.0</td>\n",
       "      <td>4.0</td>\n",
       "      <td>NaN</td>\n",
       "      <td>NaN</td>\n",
       "      <td>NaN</td>\n",
       "      <td>3.0</td>\n",
       "      <td>NaN</td>\n",
       "      <td>NaN</td>\n",
       "      <td>1</td>\n",
       "    </tr>\n",
       "    <tr>\n",
       "      <th>16761</th>\n",
       "      <td>toronto-pearson-airport</td>\n",
       "      <td>/airport-reviews/toronto-pearson-airport</td>\n",
       "      <td>Toronto Pearson Airport customer review</td>\n",
       "      <td>Don Romano</td>\n",
       "      <td>Canada</td>\n",
       "      <td>2011-08-01</td>\n",
       "      <td>The US Customs at Toronto Pearson Airport is r...</td>\n",
       "      <td>NaN</td>\n",
       "      <td>NaN</td>\n",
       "      <td>NaN</td>\n",
       "      <td>1.0</td>\n",
       "      <td>1.0</td>\n",
       "      <td>5.0</td>\n",
       "      <td>NaN</td>\n",
       "      <td>NaN</td>\n",
       "      <td>NaN</td>\n",
       "      <td>3.0</td>\n",
       "      <td>NaN</td>\n",
       "      <td>NaN</td>\n",
       "      <td>0</td>\n",
       "    </tr>\n",
       "    <tr>\n",
       "      <th>4079</th>\n",
       "      <td>dalaman-airport</td>\n",
       "      <td>/airport-reviews/dalaman-airport</td>\n",
       "      <td>Dalaman Airport customer review</td>\n",
       "      <td>T Nicholls</td>\n",
       "      <td>United Kingdom</td>\n",
       "      <td>2009-10-28</td>\n",
       "      <td>What an absolute disgrace! I got fleeced 40 li...</td>\n",
       "      <td>NaN</td>\n",
       "      <td>NaN</td>\n",
       "      <td>NaN</td>\n",
       "      <td>1.0</td>\n",
       "      <td>1.0</td>\n",
       "      <td>1.0</td>\n",
       "      <td>NaN</td>\n",
       "      <td>NaN</td>\n",
       "      <td>NaN</td>\n",
       "      <td>1.0</td>\n",
       "      <td>NaN</td>\n",
       "      <td>NaN</td>\n",
       "      <td>0</td>\n",
       "    </tr>\n",
       "    <tr>\n",
       "      <th>516</th>\n",
       "      <td>amsterdam-schiphol-airport</td>\n",
       "      <td>/airport-reviews/amsterdam-schiphol-airport</td>\n",
       "      <td>Amsterdam Schiphol Airport customer review</td>\n",
       "      <td>David Graham</td>\n",
       "      <td>United Kingdom</td>\n",
       "      <td>2014-04-24</td>\n",
       "      <td>I am aware that many reviewers are high in the...</td>\n",
       "      <td>NaN</td>\n",
       "      <td>NaN</td>\n",
       "      <td>NaN</td>\n",
       "      <td>2.0</td>\n",
       "      <td>3.0</td>\n",
       "      <td>3.0</td>\n",
       "      <td>NaN</td>\n",
       "      <td>NaN</td>\n",
       "      <td>NaN</td>\n",
       "      <td>3.0</td>\n",
       "      <td>NaN</td>\n",
       "      <td>NaN</td>\n",
       "      <td>0</td>\n",
       "    </tr>\n",
       "    <tr>\n",
       "      <th>13141</th>\n",
       "      <td>newcastle-airport</td>\n",
       "      <td>/airport-reviews/newcastle-airport</td>\n",
       "      <td>Newcastle Airport customer review</td>\n",
       "      <td>I Cameron</td>\n",
       "      <td>United Kingdom</td>\n",
       "      <td>2015-06-11</td>\n",
       "      <td>What a disappointment, Newcastle Airport has g...</td>\n",
       "      <td>Arrival and Departure</td>\n",
       "      <td>NaN</td>\n",
       "      <td>Solo Leisure</td>\n",
       "      <td>4.0</td>\n",
       "      <td>5.0</td>\n",
       "      <td>5.0</td>\n",
       "      <td>2.0</td>\n",
       "      <td>NaN</td>\n",
       "      <td>2.0</td>\n",
       "      <td>2.0</td>\n",
       "      <td>NaN</td>\n",
       "      <td>NaN</td>\n",
       "      <td>1</td>\n",
       "    </tr>\n",
       "    <tr>\n",
       "      <th>12412</th>\n",
       "      <td>mumbai-airport</td>\n",
       "      <td>/airport-reviews/mumbai-airport</td>\n",
       "      <td>Mumbai Airport customer review</td>\n",
       "      <td>S Sankar</td>\n",
       "      <td>United Kingdom</td>\n",
       "      <td>2015-01-14</td>\n",
       "      <td>Flew on BA to London with young family on the ...</td>\n",
       "      <td>NaN</td>\n",
       "      <td>NaN</td>\n",
       "      <td>NaN</td>\n",
       "      <td>10.0</td>\n",
       "      <td>5.0</td>\n",
       "      <td>5.0</td>\n",
       "      <td>NaN</td>\n",
       "      <td>NaN</td>\n",
       "      <td>NaN</td>\n",
       "      <td>5.0</td>\n",
       "      <td>NaN</td>\n",
       "      <td>NaN</td>\n",
       "      <td>1</td>\n",
       "    </tr>\n",
       "    <tr>\n",
       "      <th>15912</th>\n",
       "      <td>southampton-airport</td>\n",
       "      <td>/airport-reviews/southampton-airport</td>\n",
       "      <td>Southampton Airport customer review</td>\n",
       "      <td>D McClelland</td>\n",
       "      <td>United Kingdom</td>\n",
       "      <td>2012-04-11</td>\n",
       "      <td>Disgusted with security at Southampton. After ...</td>\n",
       "      <td>NaN</td>\n",
       "      <td>NaN</td>\n",
       "      <td>NaN</td>\n",
       "      <td>1.0</td>\n",
       "      <td>2.0</td>\n",
       "      <td>3.0</td>\n",
       "      <td>NaN</td>\n",
       "      <td>NaN</td>\n",
       "      <td>NaN</td>\n",
       "      <td>2.0</td>\n",
       "      <td>NaN</td>\n",
       "      <td>NaN</td>\n",
       "      <td>0</td>\n",
       "    </tr>\n",
       "    <tr>\n",
       "      <th>16443</th>\n",
       "      <td>tel-aviv-airport</td>\n",
       "      <td>/airport-reviews/tel-aviv-airport</td>\n",
       "      <td>Tel Aviv Airport customer review</td>\n",
       "      <td>Kim Krister</td>\n",
       "      <td>Finland</td>\n",
       "      <td>2011-01-16</td>\n",
       "      <td>Departure procedures started 3 hours before fl...</td>\n",
       "      <td>NaN</td>\n",
       "      <td>NaN</td>\n",
       "      <td>NaN</td>\n",
       "      <td>3.0</td>\n",
       "      <td>1.0</td>\n",
       "      <td>3.0</td>\n",
       "      <td>NaN</td>\n",
       "      <td>NaN</td>\n",
       "      <td>NaN</td>\n",
       "      <td>3.0</td>\n",
       "      <td>NaN</td>\n",
       "      <td>NaN</td>\n",
       "      <td>0</td>\n",
       "    </tr>\n",
       "    <tr>\n",
       "      <th>9175</th>\n",
       "      <td>london-gatwick-airport</td>\n",
       "      <td>/airport-reviews/london-gatwick-airport</td>\n",
       "      <td>London Gatwick Airport customer review</td>\n",
       "      <td>P Holden</td>\n",
       "      <td>United Kingdom</td>\n",
       "      <td>2013-10-29</td>\n",
       "      <td>Gatwick Connect - promises much delivers not! ...</td>\n",
       "      <td>NaN</td>\n",
       "      <td>NaN</td>\n",
       "      <td>NaN</td>\n",
       "      <td>8.0</td>\n",
       "      <td>4.0</td>\n",
       "      <td>4.0</td>\n",
       "      <td>NaN</td>\n",
       "      <td>NaN</td>\n",
       "      <td>NaN</td>\n",
       "      <td>4.0</td>\n",
       "      <td>NaN</td>\n",
       "      <td>NaN</td>\n",
       "      <td>1</td>\n",
       "    </tr>\n",
       "  </tbody>\n",
       "</table>\n",
       "</div>"
      ],
      "text/plain": [
       "                     airport_name  \\\n",
       "613    amsterdam-schiphol-airport   \n",
       "11532          marsa-alam-airport   \n",
       "16761     toronto-pearson-airport   \n",
       "4079              dalaman-airport   \n",
       "516    amsterdam-schiphol-airport   \n",
       "13141           newcastle-airport   \n",
       "12412              mumbai-airport   \n",
       "15912         southampton-airport   \n",
       "16443            tel-aviv-airport   \n",
       "9175       london-gatwick-airport   \n",
       "\n",
       "                                              link  \\\n",
       "613    /airport-reviews/amsterdam-schiphol-airport   \n",
       "11532          /airport-reviews/marsa-alam-airport   \n",
       "16761     /airport-reviews/toronto-pearson-airport   \n",
       "4079              /airport-reviews/dalaman-airport   \n",
       "516    /airport-reviews/amsterdam-schiphol-airport   \n",
       "13141           /airport-reviews/newcastle-airport   \n",
       "12412              /airport-reviews/mumbai-airport   \n",
       "15912         /airport-reviews/southampton-airport   \n",
       "16443            /airport-reviews/tel-aviv-airport   \n",
       "9175       /airport-reviews/london-gatwick-airport   \n",
       "\n",
       "                                            title        author  \\\n",
       "613    Amsterdam Schiphol Airport customer review     D Hartono   \n",
       "11532          Marsa Alam Airport customer review   Paul Harvey   \n",
       "16761     Toronto Pearson Airport customer review    Don Romano   \n",
       "4079              Dalaman Airport customer review    T Nicholls   \n",
       "516    Amsterdam Schiphol Airport customer review  David Graham   \n",
       "13141           Newcastle Airport customer review     I Cameron   \n",
       "12412              Mumbai Airport customer review      S Sankar   \n",
       "15912         Southampton Airport customer review  D McClelland   \n",
       "16443            Tel Aviv Airport customer review   Kim Krister   \n",
       "9175       London Gatwick Airport customer review      P Holden   \n",
       "\n",
       "       author_country        date  \\\n",
       "613         Indonesia  2011-06-16   \n",
       "11532  United Kingdom  2012-10-01   \n",
       "16761          Canada  2011-08-01   \n",
       "4079   United Kingdom  2009-10-28   \n",
       "516    United Kingdom  2014-04-24   \n",
       "13141  United Kingdom  2015-06-11   \n",
       "12412  United Kingdom  2015-01-14   \n",
       "15912  United Kingdom  2012-04-11   \n",
       "16443         Finland  2011-01-16   \n",
       "9175   United Kingdom  2013-10-29   \n",
       "\n",
       "                                                 content  \\\n",
       "613    Its a good and spacious airport it also has a ...   \n",
       "11532  Despite the difficult situation in Egypt this ...   \n",
       "16761  The US Customs at Toronto Pearson Airport is r...   \n",
       "4079   What an absolute disgrace! I got fleeced 40 li...   \n",
       "516    I am aware that many reviewers are high in the...   \n",
       "13141  What a disappointment, Newcastle Airport has g...   \n",
       "12412  Flew on BA to London with young family on the ...   \n",
       "15912  Disgusted with security at Southampton. After ...   \n",
       "16443  Departure procedures started 3 hours before fl...   \n",
       "9175   Gatwick Connect - promises much delivers not! ...   \n",
       "\n",
       "          experience_airport date_visit type_traveller  overall_rating  \\\n",
       "613                      NaN        NaN            NaN             4.0   \n",
       "11532                    NaN        NaN            NaN             7.0   \n",
       "16761                    NaN        NaN            NaN             1.0   \n",
       "4079                     NaN        NaN            NaN             1.0   \n",
       "516                      NaN        NaN            NaN             2.0   \n",
       "13141  Arrival and Departure        NaN   Solo Leisure             4.0   \n",
       "12412                    NaN        NaN            NaN            10.0   \n",
       "15912                    NaN        NaN            NaN             1.0   \n",
       "16443                    NaN        NaN            NaN             3.0   \n",
       "9175                     NaN        NaN            NaN             8.0   \n",
       "\n",
       "       queuing_rating  terminal_cleanliness_rating  terminal_seating_rating  \\\n",
       "613               5.0                          3.0                      NaN   \n",
       "11532             3.0                          4.0                      NaN   \n",
       "16761             1.0                          5.0                      NaN   \n",
       "4079              1.0                          1.0                      NaN   \n",
       "516               3.0                          3.0                      NaN   \n",
       "13141             5.0                          5.0                      2.0   \n",
       "12412             5.0                          5.0                      NaN   \n",
       "15912             2.0                          3.0                      NaN   \n",
       "16443             1.0                          3.0                      NaN   \n",
       "9175              4.0                          4.0                      NaN   \n",
       "\n",
       "       terminal_signs_rating  food_beverages_rating  airport_shopping_rating  \\\n",
       "613                      NaN                    NaN                      3.0   \n",
       "11532                    NaN                    NaN                      3.0   \n",
       "16761                    NaN                    NaN                      3.0   \n",
       "4079                     NaN                    NaN                      1.0   \n",
       "516                      NaN                    NaN                      3.0   \n",
       "13141                    NaN                    2.0                      2.0   \n",
       "12412                    NaN                    NaN                      5.0   \n",
       "15912                    NaN                    NaN                      2.0   \n",
       "16443                    NaN                    NaN                      3.0   \n",
       "9175                     NaN                    NaN                      4.0   \n",
       "\n",
       "       wifi_connectivity_rating  airport_staff_rating  recommended  \n",
       "613                         NaN                   NaN            0  \n",
       "11532                       NaN                   NaN            1  \n",
       "16761                       NaN                   NaN            0  \n",
       "4079                        NaN                   NaN            0  \n",
       "516                         NaN                   NaN            0  \n",
       "13141                       NaN                   NaN            1  \n",
       "12412                       NaN                   NaN            1  \n",
       "15912                       NaN                   NaN            0  \n",
       "16443                       NaN                   NaN            0  \n",
       "9175                        NaN                   NaN            1  "
      ]
     },
     "execution_count": 6,
     "metadata": {},
     "output_type": "execute_result"
    }
   ],
   "source": [
    "reviewsdf = pd.read_csv(\"airportquality.csv\", encoding = \"utf8\")\n",
    "reviewsdf = reviewsdf[np.isfinite(reviewsdf['overall_rating'])]\n",
    "reviewsdf.sample(10)"
   ]
  },
  {
   "cell_type": "code",
   "execution_count": 3,
   "metadata": {},
   "outputs": [
    {
     "name": "stdout",
     "output_type": "stream",
     "text": [
      "[9.0, 9.0, 9.0, 5.0, 4.0, 5.0, 4.0, 1.0, 2.0, 8.0]\n"
     ]
    }
   ],
   "source": [
    "reviews = [row[\"content\"] for index, row in reviewsdf.iterrows()]\n",
    "ratings = [row[\"overall_rating\"] for index, row in reviewsdf.iterrows()]\n",
    "recommended = [row[\"recommended\"] for index, row in reviewsdf.iterrows()]\n",
    "print(ratings[0:10])"
   ]
  },
  {
   "cell_type": "markdown",
   "metadata": {},
   "source": [
    "#  Set up functions"
   ]
  },
  {
   "cell_type": "markdown",
   "metadata": {},
   "source": [
    "## Stemming"
   ]
  },
  {
   "cell_type": "code",
   "execution_count": 4,
   "metadata": {},
   "outputs": [
    {
     "name": "stdout",
     "output_type": "stream",
     "text": [
      "['airport', 'moment', 'expand', 'airport', 'lot', 'build', 'go', 'departur']\n"
     ]
    }
   ],
   "source": [
    "from nltk.stem.snowball import SnowballStemmer\n",
    "stemmer = SnowballStemmer(\"english\")\n",
    "\n",
    "class Cleaner:\n",
    "    def __init__(self, in_bigrams = [], in_trigrams= []):\n",
    "        self.bigrams = in_bigrams\n",
    "        self.trigrams = in_trigrams\n",
    "        \n",
    "    \n",
    "    def stem_tokens(self, text):\n",
    "        tokenizer = RegexpTokenizer(r'\\w+')\n",
    "        stopwords = nltk.corpus.stopwords.words('english')\n",
    "        tokens = [word for word in tokenizer.tokenize(text.lower())]\n",
    "\n",
    "        \n",
    "        stemmed_tokens = [term for term in tokens if term not in stopwords]\n",
    "        \n",
    "        if len(self.bigrams) > 0:\n",
    "            doc_bigrams = list(nltk.bigrams (stemmed_tokens))\n",
    "            for term in doc_bigrams:\n",
    "                if term in bigrams:\n",
    "                    stemmed_tokens.append(\"_\".join(term))\n",
    "        \n",
    "        if len(self.trigrams) > 0:\n",
    "            doc_trigrams = list(nltk.trigrams (stemmed_tokens))\n",
    "            for term in doc_trigrams:\n",
    "                if term in trigrams:\n",
    "                    stemmed_tokens.append(\"_\".join(term))\n",
    "        \n",
    "        stemmed_tokens = [stemmer.stem(word) for word in stemmed_tokens \n",
    "                          if re.search('[a-zA-Z]', word)]\n",
    "        \n",
    "        return stemmed_tokens\n",
    "clean = Cleaner()\n",
    "print(clean.stem_tokens(reviews[1])[2:10])"
   ]
  },
  {
   "cell_type": "markdown",
   "metadata": {},
   "source": [
    "## Finding ngram and prepare text"
   ]
  },
  {
   "cell_type": "code",
   "execution_count": 7,
   "metadata": {},
   "outputs": [
    {
     "name": "stdout",
     "output_type": "stream",
     "text": [
      "[('duti', 'free'), ('passport', 'control'), ('x', 'ray'), ('car', 'park'), ('baggag', 'claim')]\n",
      "[('duti', 'free', 'shop'), ('duti', 'free', 'store'), ('duti', 'free', 'area'), ('duti', 'free', 'price'), ('shop', 'duti', 'free')]\n"
     ]
    }
   ],
   "source": [
    "\n",
    "texts = [clean.stem_tokens(text) for text in reviews]\n",
    "\n",
    "bigramfinder = BigramCollocationFinder.from_documents(texts)\n",
    "bigramfinder.apply_freq_filter (30)\n",
    "bigrams = bigramfinder.nbest(BigramAssocMeasures.likelihood_ratio,200)\n",
    "bigrams = [(x,y) for x,y in bigrams if x!=y]\n",
    "print(bigrams[0:5])\n",
    "trigramfinder = TrigramCollocationFinder.from_documents(texts)\n",
    "trigramfinder.apply_freq_filter (30)\n",
    "trigrams = trigramfinder.nbest(TrigramAssocMeasures.likelihood_ratio,200)\n",
    "trigrams = [(x,y,z) for x,y,z in trigrams if x!=y or x!=z or y!=z]\n",
    "print(trigrams[0:5])"
   ]
  },
  {
   "cell_type": "code",
   "execution_count": 8,
   "metadata": {
    "collapsed": true
   },
   "outputs": [],
   "source": [
    "text_cleaner =  Cleaner(bigrams, trigrams)"
   ]
  },
  {
   "cell_type": "markdown",
   "metadata": {},
   "source": [
    "## Tfidf - Vectorizer"
   ]
  },
  {
   "cell_type": "code",
   "execution_count": 9,
   "metadata": {
    "collapsed": true
   },
   "outputs": [],
   "source": [
    "from sklearn.feature_extraction.text import TfidfVectorizer\n",
    "\n",
    "# Define transformer \n",
    "tfidf = TfidfVectorizer(max_df=0.5, max_features=200000, \n",
    "                        min_df = 0.01, stop_words=\"english\", \n",
    "                        use_idf = True, tokenizer=text_cleaner.stem_tokens)\n"
   ]
  },
  {
   "cell_type": "code",
   "execution_count": 10,
   "metadata": {
    "collapsed": true
   },
   "outputs": [],
   "source": [
    "tfidf_reviews = tfidf.fit_transform(reviews)"
   ]
  },
  {
   "cell_type": "markdown",
   "metadata": {},
   "source": [
    "# Clustering"
   ]
  },
  {
   "cell_type": "code",
   "execution_count": 40,
   "metadata": {},
   "outputs": [
    {
     "data": {
      "text/plain": [
       "KMeans(algorithm='auto', copy_x=True, init='k-means++', max_iter=300,\n",
       "    n_clusters=10, n_init=10, n_jobs=1, precompute_distances='auto',\n",
       "    random_state=None, tol=0.0001, verbose=0)"
      ]
     },
     "execution_count": 40,
     "metadata": {},
     "output_type": "execute_result"
    }
   ],
   "source": [
    "from sklearn.cluster import KMeans\n",
    "number = 6\n",
    "km = KMeans(n_clusters=number)\n",
    "km.fit(tfidf_reviews)"
   ]
  },
  {
   "cell_type": "code",
   "execution_count": 41,
   "metadata": {
    "collapsed": true
   },
   "outputs": [],
   "source": [
    "clusters = km.labels_.tolist()"
   ]
  },
  {
   "cell_type": "code",
   "execution_count": 47,
   "metadata": {
    "scrolled": true
   },
   "outputs": [
    {
     "name": "stdout",
     "output_type": "stream",
     "text": [
      "               rating   cluster\n",
      "recommended                    \n",
      "0            2.858372  3.826281\n",
      "1            7.844308  4.886166\n",
      "0         Axes(0.1,0.15;0.363636x0.75)\n",
      "1    Axes(0.536364,0.15;0.363636x0.75)\n",
      "dtype: object\n"
     ]
    }
   ],
   "source": [
    "ap_reviews = {'content':reviews, 'rating': ratings, 'cluster': clusters, 'recommended' : recommended}\n",
    "frame = pd.DataFrame(ap_reviews, index = [clusters], \n",
    "                     columns=['content' , 'rating', 'cluster', 'recommended'])\n",
    "frame['cluster'].value_counts()\n",
    "frame = frame[np.isfinite(frame['rating'])]\n",
    "groupByCluster = frame.groupby(frame['recommended'])\n",
    "\n",
    "print(groupByCluster.mean())\n",
    "bplot = groupByCluster.boxplot()\n",
    "print(bplot)\n",
    "#print(dir(groupByCluster))\n"
   ]
  },
  {
   "cell_type": "code",
   "execution_count": 45,
   "metadata": {
    "collapsed": true
   },
   "outputs": [],
   "source": [
    "frame.to_csv('10_clusters.csv', index = False)"
   ]
  },
  {
   "cell_type": "markdown",
   "metadata": {},
   "source": [
    "# KMeans Visualization"
   ]
  },
  {
   "cell_type": "code",
   "execution_count": 48,
   "metadata": {
    "collapsed": true
   },
   "outputs": [],
   "source": [
    "revMatrix = frame.as_matrix()\n",
    "# a = dir(revMatrix) # show properties of matrix\n",
    "# print(a)"
   ]
  },
  {
   "cell_type": "markdown",
   "metadata": {},
   "source": [
    "For cluster visualization we use two parameters - overall rating (0-10) and recommended value (0-1). \n",
    "<li>X axis represents cluster number </li>\n",
    "<li> Y axis represents avarage reccomended value in the cluster </li>\n",
    "<li> Circle radius R represents normalized (0-1) average overall rating value in the cluster </li>"
   ]
  },
  {
   "cell_type": "code",
   "execution_count": 50,
   "metadata": {},
   "outputs": [
    {
     "name": "stdout",
     "output_type": "stream",
     "text": [
      "[4.4040902679830749, 3.4664466446644666, 3.0838709677419356, 4.060781476121563, 3.9168886521044222, 3.8765182186234819] 4.40409026798 3.08387096774\n"
     ]
    },
    {
     "data": {
      "image/png": "[encoded data removed]",
      "text/plain": [
       "<matplotlib.figure.Figure at 0x110308d68>"
      ]
     },
     "metadata": {},
     "output_type": "display_data"
    }
   ],
   "source": [
    "import matplotlib.pyplot as plt\n",
    "import matplotlib.patches as mpatches\n",
    "\n",
    "#Initial clusters\n",
    "\n",
    "cluster0=[]\n",
    "cluster1=[]\n",
    "cluster2=[]\n",
    "cluster3=[]\n",
    "cluster4=[]\n",
    "cluster5=[]\n",
    "\n",
    "#Asigning clusters to initial clusters\n",
    "for i in range(0,revMatrix.shape[0]):\n",
    "    if revMatrix[i,2] == 0:\n",
    "        cluster0.append((revMatrix[i][1],revMatrix[i,3]))\n",
    "    elif revMatrix[i,2] == 1:\n",
    "        cluster1.append((revMatrix[i,1],revMatrix[i,3]))\n",
    "    elif revMatrix[i,2] == 2:\n",
    "        cluster2.append((revMatrix[i,1],revMatrix[i,3]))\n",
    "    elif revMatrix[i,2] == 3:\n",
    "        cluster3.append((revMatrix[i,1],revMatrix[i,3]))\n",
    "    elif revMatrix[i,2] == 4:\n",
    "        cluster4.append((revMatrix[i,1],revMatrix[i,3]))\n",
    "    elif revMatrix[i,2] == 5:\n",
    "        cluster5.append((revMatrix[i,1],revMatrix[i,3]))\n",
    "\n",
    "#NP array conversion        \n",
    "x0=np.array(cluster0)\n",
    "x1=np.array(cluster1)\n",
    "x2=np.array(cluster2)\n",
    "x3=np.array(cluster3)\n",
    "x4=np.array(cluster4)\n",
    "x5=np.array(cluster5)\n",
    "\n",
    "prep=[]\n",
    "\n",
    "#Mean calculation\n",
    "prep.append(x0[:,0].mean())\n",
    "prep.append(x1[:,0].mean())\n",
    "prep.append(x2[:,0].mean())\n",
    "prep.append(x3[:,0].mean())\n",
    "prep.append(x4[:,0].mean())\n",
    "prep.append(x5[:,0].mean())\n",
    "\n",
    "#Normalizing mean to 1..0 value\n",
    "maxim = max(prep)\n",
    "minim = min(prep)\n",
    "print(prep,maxim,minim)\n",
    "normalized=[]\n",
    "for item in prep:\n",
    "    normalized.append((item-minim) / (maxim-minim))\n",
    "    \n",
    "#Asigning mean to values\n",
    "mean0 = x0[:,1].mean()\n",
    "mean1 = x1[:,1].mean()\n",
    "mean2 = x2[:,1].mean()\n",
    "mean3 = x3[:,1].mean()\n",
    "mean4 = x4[:,1].mean()\n",
    "mean5 = x5[:,1].mean()\n",
    "\n",
    "\n",
    "#Drawing circles\n",
    "circle0 = plt.Circle((1, mean0),normalized[0], color='r')\n",
    "circle1 = plt.Circle((2, mean1), normalized[1], color='b')\n",
    "circle2 = plt.Circle((3, mean2), normalized[2], color='g')\n",
    "circle3 = plt.Circle((4, mean3), normalized[3], color='c')\n",
    "circle4 = plt.Circle((5, mean4), normalized[4], color='y')\n",
    "circle5 = plt.Circle((6, mean5), normalized[5], color='m')\n",
    "\n",
    "\n",
    "\n",
    "fig, ax = plt.subplots()\n",
    "\n",
    "ax.add_artist(circle0)\n",
    "ax.add_artist(circle1)\n",
    "ax.add_artist(circle2)\n",
    "ax.add_artist(circle3)\n",
    "ax.add_artist(circle4)\n",
    "ax.add_artist(circle5)\n",
    "\n",
    "ax.set_xlim((0, 7))\n",
    "ax.set_ylim((-1, 2))\n",
    "\n",
    "\n",
    "red_patch = mpatches.Patch(color='r', label='Cluster 1')\n",
    "blue_patch = mpatches.Patch(color='b', label='Cluster 2')\n",
    "g_patch = mpatches.Patch(color='g', label='Cluster 3')\n",
    "c_patch = mpatches.Patch(color='c', label='Cluster 4')\n",
    "y_patch = mpatches.Patch(color='y', label='Cluster 5')\n",
    "m_patch = mpatches.Patch(color='m', label='Cluster 6')\n",
    "\n",
    "\n",
    "#This part can be made nicer I guess. Printing and labeling part.\n",
    "\n",
    "ax.legend(handles=[red_patch,blue_patch,g_patch,c_patch,y_patch,m_patch])\n",
    "ax.text(1,mean0-0.05 , (\"%.2f\" % mean0) , ha='center', va='bottom')\n",
    "ax.text(2,mean1-0.05 , (\"%.2f\" % mean1) , ha='center', va='bottom')\n",
    "ax.text(3,mean2-0.05 , (\"%.2f\" % mean2) , ha='center', va='bottom')\n",
    "ax.text(4,mean3-0.05 , (\"%.2f\" % mean3) , ha='center', va='bottom')\n",
    "ax.text(5,mean4-0.05 , (\"%.2f\" % mean4) , ha='center', va='bottom')\n",
    "ax.text(6,mean5-0.05 , (\"%.2f\" % mean5) , ha='center', va='bottom')\n",
    "\n",
    "ax.text(1,-0.75 , (\"R= %.2f\" % normalized[0]) , ha='center', va='bottom')\n",
    "ax.text(2,-0.75 , (\"R= %.2f\" % normalized[1]) , ha='center', va='bottom')\n",
    "ax.text(3,-0.75 , (\"R= %.2f\" % normalized[2]) , ha='center', va='bottom')\n",
    "ax.text(4,-0.75 , (\"R= %.2f\" % normalized[3]) , ha='center', va='bottom')\n",
    "ax.text(5,-0.75 , (\"R= %.2f\" % normalized[4]) , ha='center', va='bottom')\n",
    "ax.text(6,-0.75 , (\"R= %.2f\" % normalized[5]) , ha='center', va='bottom')\n",
    "\n",
    "\n",
    "ax.set_title(\"Clustered reviews\")\n",
    "ax.set_xlabel(\"Cluster number\")\n",
    "ax.set_ylabel(\"Avarange reccomended value (0-1)\")\n",
    "\n",
    "plt.show()"
   ]
  },
  {
   "cell_type": "code",
   "execution_count": null,
   "metadata": {
    "collapsed": true
   },
   "outputs": [],
   "source": [
    "#explain very well in the report what it is visualizing."
   ]
  }
 ],
 "metadata": {
  "anaconda-cloud": {},
  "kernelspec": {
   "display_name": "Python 3",
   "language": "python",
   "name": "python3"
  },
  "language_info": {
   "codemirror_mode": {
    "name": "ipython",
    "version": 3
   },
   "file_extension": ".py",
   "mimetype": "text/x-python",
   "name": "python",
   "nbconvert_exporter": "python",
   "pygments_lexer": "ipython3",
   "version": "3.6.1"
  },
  "nbpresent": {
   "slides": {},
   "themes": {
    "default": "e49f7d6f-f704-4cf8-92cf-4b3990b9ca86",
    "theme": {}
   }
  }
 },
 "nbformat": 4,
 "nbformat_minor": 1
}
